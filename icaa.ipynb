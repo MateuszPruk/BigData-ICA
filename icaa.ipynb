{
 "cells": [
  {
   "cell_type": "code",
   "execution_count": 106,
   "id": "18e00f64",
   "metadata": {},
   "outputs": [],
   "source": [
    "import pandas as pd\n",
    "import numpy as np\n",
    "import matplotlib.pyplot as plt\n",
    "import random\n",
    "import math "
   ]
  },
  {
   "cell_type": "code",
   "execution_count": 107,
   "id": "3377dedb",
   "metadata": {},
   "outputs": [],
   "source": [
    "def generate_signal():\n",
    "    i = np.arange(0,0.3, 0.0001)\n",
    "    k = len(i)\n",
    "    s1 = np.sin((300*i)+30*np.cos(60*i))\n",
    "    s2 = np.sin(350*i)\n",
    "    s3 = np.sign(np.sin(600*i))\n",
    "    s4 = np.sin(60*i) * np.sin(600*i)\n",
    "    s5 = np.random.randn(k)\n",
    "    s = np.vstack((s1,s2,s3,s4,s5))\n",
    "    \n",
    "    m, n = s.shape\n",
    "    a = np.random.rand(m, m)\n",
    "    #x = np.linalg.cond(a) * s\n",
    "    x = a @ s\n",
    "    #s = [s1,s2,s3,s4,s5]\n",
    "    return s, x, a"
   ]
  },
  {
   "cell_type": "code",
   "execution_count": 108,
   "id": "6edde4b3",
   "metadata": {},
   "outputs": [],
   "source": [
    "def generate_plot(x, signals):\n",
    "    for s in signals:\n",
    "        fig = plt.figure(figsize=(16,4))\n",
    "        plt.plot(x, s)\n",
    "        plt.xlabel(\"X-axis\")\n",
    "        plt.ylabel(\"Y-axis\")\n",
    "        plt.title(\"Simple Line Plot\")\n",
    "        plt.show()\n",
    "    \n",
    "    return None"
   ]
  },
  {
   "cell_type": "code",
   "execution_count": 7,
   "id": "bf3d0bb3",
   "metadata": {},
   "outputs": [],
   "source": [
    "def mix_signals(signals):\n",
    "    m, n = signals.shape\n",
    "    a = np.random.rand(m, m)\n",
    "    a = np.linalg.cond(a)\n",
    "    return a @ signals"
   ]
  },
  {
   "cell_type": "code",
   "execution_count": 109,
   "id": "c5bc8b72",
   "metadata": {},
   "outputs": [],
   "source": [
    "def pimi(a):\n",
    "    b = np.absolute(a)\n",
    "    c = b.T\n",
    "    nc, mc = c.shape\n",
    "    xc = np.max(c, axis=0)\n",
    "    o = np.ones((nc, 1))\n",
    "    mcd = np.kron(o, xc)\n",
    "    pc = np.divide(c, mcd)\n",
    "    spc = np.sum(pc)-1\n",
    "    p1 = np.sum(pc)\n",
    "                \n",
    "    c = b\n",
    "    nc, mc = c.shape\n",
    "    xc = np.max(nc, axis=0)\n",
    "    o = np.ones((nc, 1))\n",
    "    mcd = np.kron(o, xc)\n",
    "    pc = np.divide(c, mcd)\n",
    "    spc = np.sum(pc)-1\n",
    "    p2 = np.sum(pc)\n",
    "                \n",
    "    p = p1 + p2\n",
    "    p = p/(nc*(nc-1))\n",
    "    \n",
    "    return p"
   ]
  },
  {
   "cell_type": "code",
   "execution_count": 126,
   "id": "834309d3",
   "metadata": {},
   "outputs": [],
   "source": [
    "def icaalg(x):\n",
    "    m, n = x.shape\n",
    "    if m > n:\n",
    "        x = x.T\n",
    "    m, n = x.shape\n",
    "    \n",
    "    w = np.eye(m, m)\n",
    "    \n",
    "    #c1 = 180\n",
    "    #c2 = 0.00521\n",
    "    #c3 = -0.0009\n",
    "    \n",
    "    y = np.zeros((m,n))\n",
    "    \n",
    "    for i in range(n):\n",
    "        #if i< c1:\n",
    "        #    ei=c2\n",
    "        #else:\n",
    "        #    ei = c2 * math.exp(c3*(i-c1))\n",
    "            \n",
    "        ei = 0.0001\n",
    "        \n",
    "        y[:, i] = w @ x[:, i]\n",
    "        f = y[:, i] ** 3\n",
    "        g = np.tanh(y[:, i])\n",
    "    \n",
    "        w = w + ei * (np.eye(m) - f[:, np.newaxis] @ g[:, np.newaxis].T) @ w\n",
    "    \n",
    "    return y, w\n",
    "        "
   ]
  },
  {
   "cell_type": "code",
   "execution_count": 118,
   "id": "686e8833",
   "metadata": {},
   "outputs": [],
   "source": [
    "s, x, a = generate_signal()"
   ]
  },
  {
   "cell_type": "code",
   "execution_count": 127,
   "id": "0528960a",
   "metadata": {
    "scrolled": true
   },
   "outputs": [
    {
     "data": {
      "text/plain": [
       "0.8345709577809611"
      ]
     },
     "execution_count": 127,
     "metadata": {},
     "output_type": "execute_result"
    }
   ],
   "source": [
    "pimi(a)"
   ]
  },
  {
   "cell_type": "code",
   "execution_count": 128,
   "id": "3dc171fc",
   "metadata": {},
   "outputs": [],
   "source": [
    "y, w = icaalg(x)"
   ]
  },
  {
   "cell_type": "code",
   "execution_count": 129,
   "id": "82f5825f",
   "metadata": {},
   "outputs": [
    {
     "data": {
      "text/plain": [
       "0.47565055439989495"
      ]
     },
     "execution_count": 129,
     "metadata": {},
     "output_type": "execute_result"
    }
   ],
   "source": [
    "pimi(w*a)"
   ]
  },
  {
   "cell_type": "code",
   "execution_count": 100,
   "id": "52dcf196",
   "metadata": {},
   "outputs": [
    {
     "data": {
      "text/plain": [
       "(5, 5)"
      ]
     },
     "execution_count": 100,
     "metadata": {},
     "output_type": "execute_result"
    }
   ],
   "source": [
    "w.shape"
   ]
  }
 ],
 "metadata": {
  "kernelspec": {
   "display_name": "Python 3 (ipykernel)",
   "language": "python",
   "name": "python3"
  },
  "language_info": {
   "codemirror_mode": {
    "name": "ipython",
    "version": 3
   },
   "file_extension": ".py",
   "mimetype": "text/x-python",
   "name": "python",
   "nbconvert_exporter": "python",
   "pygments_lexer": "ipython3",
   "version": "3.9.12"
  }
 },
 "nbformat": 4,
 "nbformat_minor": 5
}
